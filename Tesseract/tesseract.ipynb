{
 "cells": [
  {
   "cell_type": "code",
   "execution_count": 1,
   "metadata": {},
   "outputs": [],
   "source": [
    "import cv2\n",
    "import numpy as np\n",
    "\n",
    "img = cv2.imread('image.jpg')\n",
    "\n",
    "# get grayscale image\n",
    "def get_grayscale(image):\n",
    "    return cv2.cvtColor(image, cv2.COLOR_BGR2GRAY)\n",
    "\n",
    "# noise removal\n",
    "def remove_noise(image):\n",
    "    return cv2.medianBlur(image,5)\n",
    " \n",
    "#thresholding\n",
    "def thresholding(image):\n",
    "    return cv2.threshold(image, 0, 255, cv2.THRESH_BINARY + cv2.THRESH_OTSU)[1]\n",
    "\n",
    "#dilation\n",
    "def dilate(image):\n",
    "    kernel = np.ones((5,5),np.uint8)\n",
    "    return cv2.dilate(image, kernel, iterations = 1)\n",
    "    \n",
    "#erosion\n",
    "def erode(image):\n",
    "    kernel = np.ones((5,5),np.uint8)\n",
    "    return cv2.erode(image, kernel, iterations = 1)\n",
    "\n",
    "#opening - erosion followed by dilation\n",
    "def opening(image):\n",
    "    kernel = np.ones((5,5),np.uint8)\n",
    "    return cv2.morphologyEx(image, cv2.MORPH_OPEN, kernel)\n",
    "\n",
    "#canny edge detection\n",
    "def canny(image):\n",
    "    return cv2.Canny(image, 100, 200)\n",
    "\n",
    "#skew correction\n",
    "def deskew(image):\n",
    "    coords = np.column_stack(np.where(image > 0))\n",
    "    angle = cv2.minAreaRect(coords)[-1]\n",
    "    if angle < -45:\n",
    "        angle = -(90 + angle)\n",
    "    else:\n",
    "        angle = -angle\n",
    "    (h, w) = image.shape[:2]\n",
    "    center = (w // 2, h // 2)\n",
    "    M = cv2.getRotationMatrix2D(center, angle, 1.0)\n",
    "    rotated = cv2.warpAffine(image, M, (w, h), flags=cv2.INTER_CUBIC, borderMode=cv2.BORDER_REPLICATE)\n",
    "    return rotated\n",
    "\n",
    "#template matching\n",
    "def match_template(image, template):\n",
    "    return cv2.matchTemplate(image, template, cv2.TM_CCOEFF_NORMED) "
   ]
  },
  {
   "cell_type": "code",
   "execution_count": 2,
   "metadata": {},
   "outputs": [
    {
     "name": "stdout",
     "output_type": "stream",
     "text": [
      "iSe realiz6 tu pago con éxito!\n",
      "Tunimero de operation es #00040193. Ademés so ha erviado una constenca al\n",
      "correo electrcrico: peat*+*™*\"*@qmall.com, Recuorda que ol monto total a\n",
      "cambio os el importe quo se carga tu cuenta afoctando ol tipo de cambio.\n",
      "& Origen\n",
      "cuta de orgen\n",
      "Ahorro Soles 215-07081220-0-44\n",
      "a Destino\n",
      "empress categoa\n",
      "Universidad Nacional De San Agustin Universidades\n",
      "‘Unsa - Virtual CAHUANA/NINA, JASON PAUL\n",
      "cécigo de uns\n",
      "cazimoog\n",
      "{9 Documento(s) pagados\n",
      "cezmoosrension 5/4600 5/000 s/000 5/000 sofu/z0 5) 48000\n",
      "aoc is Monto total pagadoS/ 920.00\n",
      "\f\n"
     ]
    }
   ],
   "source": [
    "import cv2 \n",
    "import pytesseract\n",
    "\n",
    "img = cv2.imread('image.jpg')\n",
    "\n",
    "# Adding custom options\n",
    "custom_config = r'--oem 3 --psm 6'\n",
    "text=pytesseract.image_to_string(img, config=custom_config)\n",
    "print(text)"
   ]
  },
  {
   "cell_type": "code",
   "execution_count": 3,
   "metadata": {},
   "outputs": [],
   "source": [
    "image = cv2.imread('image.jpg')\n",
    "\n",
    "gray = get_grayscale(image)\n",
    "thresh = thresholding(gray)\n",
    "opening = opening(gray)\n",
    "canny = canny(gray)"
   ]
  },
  {
   "cell_type": "markdown",
   "metadata": {},
   "source": [
    "'iSe realiz6 tu pago con éxito!\\nTunimero de operation es #00040193. Ademés so ha erviado una constenca al\\ncorreo electrcrico: peat*+*™*\"*@qmall.com, Recuorda que ol monto total a\\ncambio os el importe quo se carga tu cuenta afoctando ol tipo de cambio.\\n& Origen\\ncuta de orgen\\nAhorro Soles 215-07081220-0-44\\na Destino\\nempress categoa\\nUniversidad Nacional De San Agustin Universidades\\n‘Unsa - Virtual CAHUANA/NINA, JASON PAUL\\ncécigo de uns\\ncazimoog\\n{9 Documento(s) pagados\\ncezmoosrension 5/4600 5/000 s/000 5/000 sofu/z0 5) 48000\\naoc is Monto total pagadoS/ 920.00\\n\\x0c'"
   ]
  },
  {
   "cell_type": "code",
   "execution_count": 4,
   "metadata": {},
   "outputs": [
    {
     "name": "stderr",
     "output_type": "stream",
     "text": [
      "Qt: Session management error: Could not open network socket\n"
     ]
    },
    {
     "name": "stdout",
     "output_type": "stream",
     "text": [
      "iSe realiz6 tu pago con éxito!\n",
      "Tu nimero de operaciones £00040193. Ademés so ha enviado una canstenca al\n",
      "correo electrcrico: peat*+*™***@gmall.com, Recuords que ol monto total a\n",
      "cambio os el importe quo se carga tu cuenta afoctando ol tipo de camo.\n",
      "© Origen\n",
      "cunts de organ\n",
      "Ahorro Soles 215-07081220-0-44\n",
      "Destino\n",
      "empresa categoa\n",
      "Universidad Nacional De San Agustin Universidades\n",
      "Unsa - Virtual CAHUANA/NINA, JASON PAUL\n",
      "cécigo de uss\n",
      "cezimoog\n",
      "{9 Documento(s) pagados\n",
      "cexmousensione s/ae000 s/00 s/o 5/000 son/zoc! 5) 48000\n",
      "cezmoosrension 5/4600 5/000 s/000 5/000 sofu/z0 5) 48000\n",
      "en sia datatiacia ia oa Monto total pagadoS/ 920.00\n",
      "\f\n"
     ]
    }
   ],
   "source": [
    "cv2.imshow('img', gray)\n",
    "cv2.waitKey(0)\n",
    "\n",
    "text=pytesseract.image_to_string(gray, config=custom_config)\n",
    "print(text)"
   ]
  },
  {
   "cell_type": "code",
   "execution_count": 5,
   "metadata": {},
   "outputs": [
    {
     "name": "stdout",
     "output_type": "stream",
     "text": [
      "iSe realizé tu pago con éxito!\n",
      "Tu nomero de operacon es ROODAOTSD, Ademds sha erviado una canstanca al\n",
      "correo slertranica: part**\"-*@qmall.com, Recuorda que ol manto total a\n",
      "cambio es el importa qua se carga tu cuenta afectando ol tia de camtio.\n",
      "& Origen\n",
      "cute de organ\n",
      "Ahorro Soles 215-07081220-0-44\n",
      "“@ Destino\n",
      "empresa cenegora\n",
      "Universidad Nacional Oe Son Agustin Universidades\n",
      "‘Unsa - Virtual CAHUANA/NINA, JASON PAUL\n",
      "cétigo de uss\n",
      "cezimong\n",
      "(J Documento(s) pagados\n",
      "cexmovseensions —s/asn0 s/o s/on0 5/000 so/nvanc 3) as000\n",
      "cerwovsreNion7 —s/as000 | s/aoo s/on0 s/000 sahz/zoa1 5) as000\n",
      "11 enviar sonstantia de soe Monte total pagadoS/ 920.00\n",
      "\f\n"
     ]
    }
   ],
   "source": [
    "cv2.imshow('img', thresh)\n",
    "cv2.waitKey(0)\n",
    "\n",
    "text=pytesseract.image_to_string(thresh, config=custom_config)\n",
    "print(text)"
   ]
  },
  {
   "cell_type": "code",
   "execution_count": 6,
   "metadata": {},
   "outputs": [
    {
     "name": "stdout",
     "output_type": "stream",
     "text": [
      "e—___e——_®\n",
      "ie remia ts pepe com dentin!\n",
      "Tene Se A A oe ee\n",
      "ee\n",
      "eee eS a i\n",
      "= Onigen\n",
      "ee\n",
      "ae es LL\n",
      "~w Destin\n",
      "— oe\n",
      "Cat Mines ae feat yen a a\n",
      "a iii\n",
      "om Pa\n",
      "<i\n",
      "ee\n",
      "() Decent) pages\n",
      "jee eee re eo eee\n",
      "ee ee\n",
      "2 ee Mere eel) SOOO\n",
      "==) GED\n",
      "\f\n"
     ]
    }
   ],
   "source": [
    "cv2.imshow('img', opening)\n",
    "cv2.waitKey(0)\n",
    "\n",
    "text=pytesseract.image_to_string(opening, config=custom_config)\n",
    "print(text)"
   ]
  },
  {
   "cell_type": "code",
   "execution_count": 7,
   "metadata": {},
   "outputs": [
    {
     "name": "stdout",
     "output_type": "stream",
     "text": [
      "aa ox exes\n",
      "a YY ae\n",
      "‘Oe\n",
      "ASS en Rac cee ad\n",
      "Rea oop raven os cd Oc eae oan ee ny a eomec Le nee cy\n",
      "oo Na ol eee ee RL Ls ox)\n",
      "Pica seater ra vowel con moana ogee na aca no\n",
      "f=Folngen)\n",
      "Cont)\n",
      "eer ea Cay\n",
      "Emr\n",
      "coe cy\n",
      "Doce ccc oe De\n",
      "rood Sed\n",
      "Cee Ce DN CCR\n",
      "Reece od\n",
      "Ce)\n",
      "Penne eared\n",
      "od a\n",
      "Co CR RL)\n",
      "Ce CL ee L)\n",
      "See eae) esata) BTN)\n",
      "owe\n",
      "\f\n"
     ]
    }
   ],
   "source": [
    "cv2.imshow('img', canny)\n",
    "cv2.waitKey(0)\n",
    "\n",
    "text=pytesseract.image_to_string(canny, config=custom_config)\n",
    "print(text)"
   ]
  },
  {
   "cell_type": "code",
   "execution_count": 8,
   "metadata": {},
   "outputs": [
    {
     "data": {
      "text/plain": [
       "48"
      ]
     },
     "execution_count": 8,
     "metadata": {},
     "output_type": "execute_result"
    }
   ],
   "source": [
    "#Getting boxes around text\n",
    "#this process is to see where is working our tesseract\n",
    "import cv2\n",
    "import pytesseract\n",
    "\n",
    "img = cv2.imread('image.jpg')\n",
    "\n",
    "h, w, c = img.shape\n",
    "boxes = pytesseract.image_to_boxes(img) \n",
    "for b in boxes.splitlines():\n",
    "    b = b.split(' ')\n",
    "    img = cv2.rectangle(img, (int(b[1]), h - int(b[2])), (int(b[3]), h - int(b[4])), (0, 255, 0), 2)\n",
    "\n",
    "cv2.imshow('img', img)\n",
    "cv2.waitKey(0)"
   ]
  },
  {
   "cell_type": "code",
   "execution_count": 1,
   "metadata": {},
   "outputs": [
    {
     "name": "stdout",
     "output_type": "stream",
     "text": [
      "dict_keys(['level', 'page_num', 'block_num', 'par_num', 'line_num', 'word_num', 'left', 'top', 'width', 'height', 'conf', 'text'])\n"
     ]
    }
   ],
   "source": [
    "import cv2\n",
    "import pytesseract\n",
    "from pytesseract import Output\n",
    "\n",
    "img = cv2.imread('image.jpg')\n",
    "\n",
    "d = pytesseract.image_to_data(img, output_type=Output.DICT)\n",
    "print(d.keys())"
   ]
  },
  {
   "cell_type": "code",
   "execution_count": 2,
   "metadata": {},
   "outputs": [
    {
     "name": "stderr",
     "output_type": "stream",
     "text": [
      "Qt: Session management error: Could not open network socket\n"
     ]
    },
    {
     "data": {
      "text/plain": [
       "48"
      ]
     },
     "execution_count": 2,
     "metadata": {},
     "output_type": "execute_result"
    }
   ],
   "source": [
    "n_boxes = len(d['left'])\n",
    "for i in range(n_boxes):\n",
    "    if int(d['conf'][i]) > 60:\n",
    "        (x, y, w, h) = (d['left'][i], d['top'][i], d['width'][i], d['height'][i])\n",
    "        img = cv2.rectangle(img, (x, y), (x + w, y + h), (0, 255, 0), 2)\n",
    "\n",
    "cv2.imshow('img', img)\n",
    "cv2.waitKey(0)"
   ]
  },
  {
   "cell_type": "code",
   "execution_count": null,
   "metadata": {},
   "outputs": [],
   "source": [
    "install: \n",
    "tesseract\n",
    "pytesseract"
   ]
  }
 ],
 "metadata": {
  "interpreter": {
   "hash": "40c6efbe1bfe1230750b1c6b6ff43642b05be0357dd448c396fdd7cde68b7842"
  },
  "kernelspec": {
   "display_name": "Python 3.8.10 ('fa')",
   "language": "python",
   "name": "python3"
  },
  "language_info": {
   "codemirror_mode": {
    "name": "ipython",
    "version": 3
   },
   "file_extension": ".py",
   "mimetype": "text/x-python",
   "name": "python",
   "nbconvert_exporter": "python",
   "pygments_lexer": "ipython3",
   "version": "3.8.10"
  },
  "orig_nbformat": 4
 },
 "nbformat": 4,
 "nbformat_minor": 2
}
